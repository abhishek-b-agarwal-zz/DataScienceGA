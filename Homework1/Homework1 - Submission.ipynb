{
 "cells": [
  {
   "cell_type": "markdown",
   "metadata": {},
   "source": [
    "# SYD DAT 7 Homework - Sumary of a chapter of Data Science Handbook\n",
    "\n",
    "## Summary of Chapter 8 (Kevin Novak)\n",
    "\n",
    "* Kevin is a Senior Data Scientiist at Uber and also the 20th employee.\n",
    "* Before Uber, he was Ph.D. candidate in nuclear physics at MSU. Theoretical physics involved lot of computer programming and statistics to evaluate the models.\n",
    "* Since he always liked to mix a bit computer science in everything, that didn't make him a good fit for academia. Moreover, hiring a nuclear physicst for most of the mainstream companies wasn't justified so when his friend who was working at Uber went to him with a role of his choice, he immediately decided to join Uber in 2011.\n",
    "* According to Kevin, Data Scientist has 2 main specialties. One is the concept of \"Big Data\" where large amount of data is processed to derive mathematical insights and other is the opposite specialization where there is a need to make quantifiable decisions based on heterogenous pirces of information.\n",
    "* Kevin goes on to explain that cleaning of data is very different in the above 2 regimes. On the smaller end, it is more a matter of evaluating the confidence one has in one’s data, while on the bigger scale, it is more about building up a more homogeneous data set to feed into algorithms.\n",
    "* For aspiring Data Scientists, Kevin says that basic understanding of mathematics and physics will get you 85% there and rest will be the baic coding skills.\n",
    "* Kevin tells that the requirement of a Data Scientist at Uber and Facebook are quite different as the former is a logistic company so data is the core while the for the latter, the data component is nice add-on.\n",
    "* To become a top level data scientist, Kevin reckons, having an intuitive problem skill plus the approximation skills will get you 90% there.\n",
    "* Kevin also talks about the trde-off from academkia mindset to a result-driven mindset by giving an example about Uber where his CEO, Travis, asked him to test a code in Production environment straightaway.\n",
    "* Lastly he talks about the recent developments in algorithms which can be used to analyze genomes. Also, according to Kevin, problems in healthcare space represent a huge data promise. He ended the interview by asking people to start applying data to real life and try to solve things."
   ]
  },
  {
   "cell_type": "markdown",
   "metadata": {
    "collapsed": true
   },
   "source": [
    "# SYD DAT 7 Homework - Lab and Exercise"
   ]
  },
  {
   "cell_type": "code",
   "execution_count": 5,
   "metadata": {
    "collapsed": true
   },
   "outputs": [],
   "source": [
    "import pandas as pd\n",
    "data = pd.read_csv('ozone.csv')"
   ]
  },
  {
   "cell_type": "code",
   "execution_count": 9,
   "metadata": {
    "collapsed": false
   },
   "outputs": [
    {
     "name": "stdout",
     "output_type": "stream",
     "text": [
      "   Ozone  Solar.R  Wind  Temp  Month  Day\n",
      "0   41.0    190.0   7.4    67      5    1\n",
      "1   36.0    118.0   8.0    72      5    2\n",
      "2   12.0    149.0  12.6    74      5    3\n",
      "3   18.0    313.0  11.5    62      5    4\n",
      "4    NaN      NaN  14.3    56      5    5\n"
     ]
    }
   ],
   "source": [
    "print data.head()"
   ]
  },
  {
   "cell_type": "markdown",
   "metadata": {},
   "source": [
    "#### Print the column names of the dataset to the screen, one column name per line.  "
   ]
  },
  {
   "cell_type": "code",
   "execution_count": 23,
   "metadata": {
    "collapsed": false
   },
   "outputs": [
    {
     "name": "stdout",
     "output_type": "stream",
     "text": [
      "Ozone\n",
      "Solar.R\n",
      "Wind\n",
      "Temp\n",
      "Month\n",
      "Day\n"
     ]
    }
   ],
   "source": [
    "for x in data.columns.values:\n",
    "    print x"
   ]
  },
  {
   "cell_type": "markdown",
   "metadata": {},
   "source": [
    "#### Extract the first 2 rows of the data frame and print them to the console. What does the output look like?"
   ]
  },
  {
   "cell_type": "code",
   "execution_count": 30,
   "metadata": {
    "collapsed": false
   },
   "outputs": [
    {
     "data": {
      "text/html": [
       "<div>\n",
       "<table border=\"1\" class=\"dataframe\">\n",
       "  <thead>\n",
       "    <tr style=\"text-align: right;\">\n",
       "      <th></th>\n",
       "      <th>Ozone</th>\n",
       "      <th>Solar.R</th>\n",
       "      <th>Wind</th>\n",
       "      <th>Temp</th>\n",
       "      <th>Month</th>\n",
       "      <th>Day</th>\n",
       "    </tr>\n",
       "  </thead>\n",
       "  <tbody>\n",
       "    <tr>\n",
       "      <th>0</th>\n",
       "      <td>41.0</td>\n",
       "      <td>190.0</td>\n",
       "      <td>7.4</td>\n",
       "      <td>67</td>\n",
       "      <td>5</td>\n",
       "      <td>1</td>\n",
       "    </tr>\n",
       "    <tr>\n",
       "      <th>1</th>\n",
       "      <td>36.0</td>\n",
       "      <td>118.0</td>\n",
       "      <td>8.0</td>\n",
       "      <td>72</td>\n",
       "      <td>5</td>\n",
       "      <td>2</td>\n",
       "    </tr>\n",
       "  </tbody>\n",
       "</table>\n",
       "</div>"
      ],
      "text/plain": [
       "   Ozone  Solar.R  Wind  Temp  Month  Day\n",
       "0   41.0    190.0   7.4    67      5    1\n",
       "1   36.0    118.0   8.0    72      5    2"
      ]
     },
     "execution_count": 30,
     "metadata": {},
     "output_type": "execute_result"
    }
   ],
   "source": [
    "data_first_2 = data.loc[0:1]\n",
    "data_first_2"
   ]
  },
  {
   "cell_type": "markdown",
   "metadata": {},
   "source": [
    "#### How many observations (i.e. rows) are in this data frame?"
   ]
  },
  {
   "cell_type": "code",
   "execution_count": 38,
   "metadata": {
    "collapsed": false
   },
   "outputs": [
    {
     "data": {
      "text/plain": [
       "153"
      ]
     },
     "execution_count": 38,
     "metadata": {},
     "output_type": "execute_result"
    }
   ],
   "source": [
    "data.shape[0] # or len(data)"
   ]
  },
  {
   "cell_type": "markdown",
   "metadata": {},
   "source": [
    "#### Extract the last 2 rows of the data frame and print them to the console. What does the output look like?"
   ]
  },
  {
   "cell_type": "code",
   "execution_count": 42,
   "metadata": {
    "collapsed": false
   },
   "outputs": [
    {
     "data": {
      "text/html": [
       "<div>\n",
       "<table border=\"1\" class=\"dataframe\">\n",
       "  <thead>\n",
       "    <tr style=\"text-align: right;\">\n",
       "      <th></th>\n",
       "      <th>Ozone</th>\n",
       "      <th>Solar.R</th>\n",
       "      <th>Wind</th>\n",
       "      <th>Temp</th>\n",
       "      <th>Month</th>\n",
       "      <th>Day</th>\n",
       "    </tr>\n",
       "  </thead>\n",
       "  <tbody>\n",
       "    <tr>\n",
       "      <th>151</th>\n",
       "      <td>18.0</td>\n",
       "      <td>131.0</td>\n",
       "      <td>8.0</td>\n",
       "      <td>76</td>\n",
       "      <td>9</td>\n",
       "      <td>29</td>\n",
       "    </tr>\n",
       "    <tr>\n",
       "      <th>152</th>\n",
       "      <td>20.0</td>\n",
       "      <td>223.0</td>\n",
       "      <td>11.5</td>\n",
       "      <td>68</td>\n",
       "      <td>9</td>\n",
       "      <td>30</td>\n",
       "    </tr>\n",
       "  </tbody>\n",
       "</table>\n",
       "</div>"
      ],
      "text/plain": [
       "     Ozone  Solar.R  Wind  Temp  Month  Day\n",
       "151   18.0    131.0   8.0    76      9   29\n",
       "152   20.0    223.0  11.5    68      9   30"
      ]
     },
     "execution_count": 42,
     "metadata": {},
     "output_type": "execute_result"
    }
   ],
   "source": [
    "data_last_2 = data.loc[151:152] #or data.tail(2)\n",
    "data_last_2"
   ]
  },
  {
   "cell_type": "markdown",
   "metadata": {},
   "source": [
    "#### What is the value of Ozone in the 47th row?"
   ]
  },
  {
   "cell_type": "code",
   "execution_count": 52,
   "metadata": {
    "collapsed": false
   },
   "outputs": [
    {
     "data": {
      "text/plain": [
       "37.0"
      ]
     },
     "execution_count": 52,
     "metadata": {},
     "output_type": "execute_result"
    }
   ],
   "source": [
    "data.ix[47]['Ozone']"
   ]
  },
  {
   "cell_type": "markdown",
   "metadata": {},
   "source": [
    "#### How many missing values are in the Ozone column of this data frame?"
   ]
  },
  {
   "cell_type": "code",
   "execution_count": 62,
   "metadata": {
    "collapsed": false
   },
   "outputs": [
    {
     "data": {
      "text/plain": [
       "37"
      ]
     },
     "execution_count": 62,
     "metadata": {},
     "output_type": "execute_result"
    }
   ],
   "source": [
    "len(data) - data['Ozone'].count()"
   ]
  },
  {
   "cell_type": "markdown",
   "metadata": {},
   "source": [
    "#### What is the mean of the Ozone column in this dataset? Exclude missing values (coded as NA) from this calculation."
   ]
  },
  {
   "cell_type": "code",
   "execution_count": 67,
   "metadata": {
    "collapsed": false
   },
   "outputs": [
    {
     "data": {
      "text/plain": [
       "42.12931034482759"
      ]
     },
     "execution_count": 67,
     "metadata": {},
     "output_type": "execute_result"
    }
   ],
   "source": [
    "data['Ozone'].dropna().mean()"
   ]
  },
  {
   "cell_type": "markdown",
   "metadata": {},
   "source": [
    "#### Extract the subset of rows of the data frame where Ozone values are above 31 and Temp values are above 90. What is the mean of Solar.R in this subset?"
   ]
  },
  {
   "cell_type": "code",
   "execution_count": 76,
   "metadata": {
    "collapsed": false
   },
   "outputs": [
    {
     "data": {
      "text/plain": [
       "212.8"
      ]
     },
     "execution_count": 76,
     "metadata": {},
     "output_type": "execute_result"
    }
   ],
   "source": [
    "data[(data['Ozone'] > 31) & (data['Temp'] > 90)]['Solar.R'].mean()"
   ]
  },
  {
   "cell_type": "markdown",
   "metadata": {},
   "source": [
    "#### What is the mean of \"Temp\" when \"Month\" is equal to 6?"
   ]
  },
  {
   "cell_type": "code",
   "execution_count": 78,
   "metadata": {
    "collapsed": false
   },
   "outputs": [
    {
     "data": {
      "text/plain": [
       "79.1"
      ]
     },
     "execution_count": 78,
     "metadata": {},
     "output_type": "execute_result"
    }
   ],
   "source": [
    "data[(data['Month'] == 6)]['Temp'].mean()"
   ]
  },
  {
   "cell_type": "markdown",
   "metadata": {},
   "source": [
    "#### What was the maximum ozone value in the month of May (i.e. Month = 5)?"
   ]
  },
  {
   "cell_type": "code",
   "execution_count": 81,
   "metadata": {
    "collapsed": false
   },
   "outputs": [
    {
     "data": {
      "text/plain": [
       "115.0"
      ]
     },
     "execution_count": 81,
     "metadata": {},
     "output_type": "execute_result"
    }
   ],
   "source": [
    "data[(data['Month'] == 5)].Ozone.max()"
   ]
  },
  {
   "cell_type": "markdown",
   "metadata": {},
   "source": [
    "## Weather\n",
    "\n",
    "The Bureau of Meteorology keeps long-term data about rainfall, temperatures and so on. You generate a query,\n",
    "and then you can fetch that same data again for a while before the data is expired.\n",
    "\n",
    "* Go to http://www.bom.gov.au/climate/data\n",
    "* There's a pull down for \"Data about\": choose \"Rainfall\"\n",
    "* Select a weather station: choose Sydney\n",
    "* It will then come up with a list of matching towns: choose Sydney, NSW (the first one in the list)\n",
    "* It will then give a list of the nearest weather stations.\n",
    "* Choose 066062 Sydney Observatory\n",
    "* Select the year 2016\n",
    "* Click on the \"Get Data\" button.\n",
    "* That next page you get will have a URL very similar to this:\n",
    "http://www.bom.gov.au/jsp/ncc/cdio/weatherData/av?p_nccObsCode=136&p_display_type=dailyDataFile&p_startYear=2016&p_c=-872836455&p_stn_num=066062"
   ]
  },
  {
   "cell_type": "code",
   "execution_count": 87,
   "metadata": {
    "collapsed": true
   },
   "outputs": [],
   "source": [
    "# Use pandas to read the rainfall table from the web (as described in the previous cell). \n",
    "# Ignore the summary statistics.\n",
    "# Select the 'Monthly Total' row and sum it to get a yearly rainfall\n",
    "# (Optional) Create a function that returns the yearly rainfall for a given year. Plot rainfall over time"
   ]
  },
  {
   "cell_type": "code",
   "execution_count": 89,
   "metadata": {
    "collapsed": false
   },
   "outputs": [],
   "source": [
    "weatherTables = pd.read_html('http://www.bom.gov.au/jsp/ncc/cdio/weatherData/av?p_nccObsCode=136&p_display_type=dailyDataFile&p_startYear=2016&p_c=-872838356&p_stn_num=066062')"
   ]
  },
  {
   "cell_type": "code",
   "execution_count": 90,
   "metadata": {
    "collapsed": false
   },
   "outputs": [],
   "source": [
    "weather = weatherTables[0]"
   ]
  },
  {
   "cell_type": "code",
   "execution_count": 109,
   "metadata": {
    "collapsed": false
   },
   "outputs": [
    {
     "data": {
      "text/plain": [
       "1385.6000000000001"
      ]
     },
     "execution_count": 109,
     "metadata": {},
     "output_type": "execute_result"
    }
   ],
   "source": [
    "weather.iloc[33,[1,2,3,4,5,6,7,8,9,10,11,12]].sum()"
   ]
  },
  {
   "cell_type": "code",
   "execution_count": 123,
   "metadata": {
    "collapsed": false
   },
   "outputs": [
    {
     "data": {
      "text/plain": [
       "897.19999999999993"
      ]
     },
     "execution_count": 123,
     "metadata": {},
     "output_type": "execute_result"
    }
   ],
   "source": [
    "def yearly_rainfall_calculator(year):\n",
    "    query = 'http://www.bom.gov.au/jsp/ncc/cdio/weatherData/av?p_nccObsCode=136&p_display_type=dailyDataFile&p_startYear=%d&p_c=-872838356&p_stn_num=066062' % (year)\n",
    "    weatherTables1 = pd.read_html(query)\n",
    "    weather_for_this_year = weatherTables1[0]\n",
    "    return weather_for_this_year.iloc[33,[1,2,3,4,5,6,7,8,9,10,11,12]].sum()\n",
    "\n",
    "yearly_rainfall_calculator(2014)"
   ]
  },
  {
   "cell_type": "code",
   "execution_count": 129,
   "metadata": {
    "collapsed": false
   },
   "outputs": [
    {
     "data": {
      "text/plain": [
       "<matplotlib.axes._subplots.AxesSubplot at 0xbfb23c8>"
      ]
     },
     "execution_count": 129,
     "metadata": {},
     "output_type": "execute_result"
    },
    {
     "data": {
      "image/png": "[encoded data removed]",
      "text/plain": [
       "<matplotlib.figure.Figure at 0xd69dc18>"
      ]
     },
     "metadata": {},
     "output_type": "display_data"
    }
   ],
   "source": [
    "import matplotlib\n",
    "%matplotlib inline\n",
    "df = {2011 : yearly_rainfall_calculator(2011), 2012 : yearly_rainfall_calculator(2012), 2013 : yearly_rainfall_calculator(2013), 2014 : yearly_rainfall_calculator(2014), 2015 : yearly_rainfall_calculator(2015), 2016 : yearly_rainfall_calculator(2016)}\n",
    "s = pd.Series(df)\n",
    "s.plot.line()"
   ]
  },
  {
   "cell_type": "markdown",
   "metadata": {},
   "source": [
    "#### Course Project\n",
    "* Come up with 5 different ideas for your course project. For each one list:\n",
    "  * Overview of your idea\n",
    "  * What data you will use, and how you will collect it\n",
    "  * What the outcome is that you are trying to achieve\n",
    "  * Any ideas of modelling techniques it may involve"
   ]
  },
  {
   "cell_type": "markdown",
   "metadata": {},
   "source": [
    "Ideas :-\n",
    "1. Uber (https://movement.uber.com/cities)\n",
    "    * Uber is about to share the data of its 2 billion rides so that would be a really good data set to work on. While I don't have any specifics about the data itself, I am sure it will be a good challenge for all the data enthusiasts out there to derive cool models.\n",
    "    * I want to collect the data about the time taken to complete the rides while looking at the route taken. Also, I want to look at the paths where it took more time and at what time of the day.\n",
    "    * I think that my study can help the Government by telling them about the condition of the roads which are more frequently used and also about the points which get crowded very quickly. Also, when the data get released, Uber will have few questions in mind which I will be happy to take on.\n",
    "    \n",
    "2. eBay\n",
    "    * eBay has a lot of data to be analyzed and since I am working there, it would be fairly easy for me to get that. I am looking at the purchase behaviour of few thousands of the customers and then predict their next purchase categpry.\n",
    "    * I will ask the Data Science team at eBay for some of the data they use which will be anonymized ofcourse\n",
    "    * I am looking at predicting the purchase behaviour of the users based on their past purchases\n",
    "    * I am not sure about the modelling techniques at the moment\n",
    "    \n",
    "3. Airbnb (New User Booking Challenge - https://www.kaggle.com/c/airbnb-recruiting-new-user-bookings)\n",
    "    * This challenge is hosted on the website kaggle.com (link given) where several datasets are provided. We have the data of train users, test users, sessions' data, countries, age_gender and sample submissions.\n",
    "    * In this challenge, you are given a list of users along with their demographics, web session records, and some summary statistics. You are asked to predict which country a new user's first booking destination will be. All the users in this dataset are from the USA. \n",
    "    There are 12 possible outcomes of the destination country: 'US', 'FR', 'CA', 'GB', 'ES', 'IT', 'PT', 'NL','DE', 'AU', 'NDF' (no destination found), and 'other'. Please note that 'NDF' is different from 'other' because 'other' means there was a booking, but is to a country not included in the list, while 'NDF' means there wasn't a booking.\n",
    "    The training and test sets are split by dates. In the test set, you will predict all the new users with first activities after 7/1/2014 (note: this is updated on 12/5/15 when the competition restarted). In the sessions dataset, the data only dates back to 1/1/2014, while the users dataset dates back to 2010.\n",
    "\n",
    "4. General Managing\n",
    "    * The data is given at this link - http://cricsheet.org/downloads/. It contains ball-by-ball data of the matches.\n",
    "    * It is aimed at creating clusters of players based on their strengths in order to build a well-rounded team.\n",
    "    * The outcome is to help teams buy the best players available at the time of auction\n",
    "\n",
    "5. Predict Stock Prices\n",
    "    * The data is available here - https://www.quandl.com/open-data. This contains end-of-day prices for over 3000 US companies.\n",
    "    * This is aimed at predicting 6-month price movements based fundamental indicators from companies' quarterly reports.\n",
    "\n"
   ]
  },
  {
   "cell_type": "code",
   "execution_count": null,
   "metadata": {
    "collapsed": true
   },
   "outputs": [],
   "source": []
  }
 ],
 "metadata": {
  "kernelspec": {
   "display_name": "Python 2",
   "language": "python",
   "name": "python2"
  },
  "language_info": {
   "codemirror_mode": {
    "name": "ipython",
    "version": 2
   },
   "file_extension": ".py",
   "mimetype": "text/x-python",
   "name": "python",
   "nbconvert_exporter": "python",
   "pygments_lexer": "ipython2",
   "version": "2.7.13"
  }
 },
 "nbformat": 4,
 "nbformat_minor": 2
}
